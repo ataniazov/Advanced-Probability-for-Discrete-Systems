{
  "nbformat": 4,
  "nbformat_minor": 0,
  "metadata": {
    "colab": {
      "name": "combinatorics.ipynb",
      "version": "0.3.2",
      "provenance": [],
      "collapsed_sections": [],
      "include_colab_link": true
    },
    "kernelspec": {
      "name": "python3",
      "display_name": "Python 3"
    }
  },
  "cells": [
    {
      "cell_type": "markdown",
      "metadata": {
        "id": "view-in-github",
        "colab_type": "text"
      },
      "source": [
        "<a href=\"https://colab.research.google.com/github/ataniazov/Advanced-Probability-for-Discrete-Systems/blob/master/combinatorics/combinatorics.ipynb\" target=\"_parent\"><img src=\"https://colab.research.google.com/assets/colab-badge.svg\" alt=\"Open In Colab\"/></a>"
      ]
    },
    {
      "metadata": {
        "colab_type": "text",
        "id": "GVc2bKwQzCdX"
      },
      "cell_type": "markdown",
      "source": [
        "# Kombinatorik\n",
        "\n",
        "Python programlama dilinde permutasyon ve kombinasyon hesaplamaları için \"itertools\" isimli kütüphane mevcut."
      ]
    },
    {
      "metadata": {
        "id": "lZkDs57BJ0XT",
        "colab_type": "text"
      },
      "cell_type": "markdown",
      "source": [
        "## Permutasyon\n",
        "\n",
        "Permutasyon kümedeki elemanların kaç farklı şekilde sıralanır sorusuna cevap verir.\n",
        "\n",
        "\n",
        "Dizinin permutasyonlarını bulmak için \"itertools\" kütüphanesinin \"permutations\" fonksiyonu kullanılır.\n",
        "\n",
        "Bu örnek giriş olarak bir elemanlar dizisini alır ve çıkış olarak o dizideki elemanların tüm sıralama durumlarını içeren \"tuple\" veri yapılarını listeler.\n",
        "\n",
        "Dizinin uzunluğu n ise işlem sonrası n! adet permutasyon sonucu elde edilir."
      ]
    },
    {
      "metadata": {
        "id": "ykdETfPnEba_",
        "colab_type": "code",
        "outputId": "cdf9881f-7b87-436a-dfe9-af8cf93c5fa4",
        "colab": {
          "base_uri": "https://localhost:8080/",
          "height": 156
        }
      },
      "cell_type": "code",
      "source": [
        "# Dizinin tüm permutasyonlarını listele\n",
        "\n",
        "# \"itertools\" kütüphanesini yükle\n",
        "from itertools import permutations\n",
        "\n",
        "# Giriş dizisi\n",
        "n = [1, 2, 3]\n",
        "\n",
        "print(\"Giriş dizisi:\", n)\n",
        "\n",
        "# Permutasyon işlemini gerçekleştir\n",
        "perm = permutations(n)\n",
        "\n",
        "print(\"Dizisinin tüm permutasyonları:\")\n",
        "# Tüm permutasyonları listele\n",
        "for i in list(perm): \n",
        "    print(i)"
      ],
      "execution_count": 1,
      "outputs": [
        {
          "output_type": "stream",
          "text": [
            "Giriş dizisi: [1, 2, 3]\n",
            "Dizisinin tüm permutasyonları:\n",
            "(1, 2, 3)\n",
            "(1, 3, 2)\n",
            "(2, 1, 3)\n",
            "(2, 3, 1)\n",
            "(3, 1, 2)\n",
            "(3, 2, 1)\n"
          ],
          "name": "stdout"
        }
      ]
    },
    {
      "metadata": {
        "id": "wQ__unJw4_4S",
        "colab_type": "text"
      },
      "cell_type": "markdown",
      "source": [
        "Permutasyonda giriş dizisinin uzunluğu (n) sıralanacak eleman sayısından (r)  farklı ise aşagıdaki şekilde yapılır:"
      ]
    },
    {
      "metadata": {
        "id": "ZrcQUFqX62T0",
        "colab_type": "code",
        "outputId": "50e21cf9-265b-4110-e676-38b4a23e6959",
        "colab": {
          "base_uri": "https://localhost:8080/",
          "height": 156
        }
      },
      "cell_type": "code",
      "source": [
        "# Dizinin verilen sıralama sayılı (r) tüm permutasyonlarını listele\n",
        "\n",
        "# \"itertools\" kütüphanesini yükle\n",
        "from itertools import permutations \n",
        "\n",
        "# Giriş dizisi\n",
        "n = [1, 2, 3]\n",
        "\n",
        "# Permutasyon sıralama sayısı\n",
        "r = 2\n",
        "\n",
        "print(\"Giriş dizisi:\", n)\n",
        "\n",
        "# Dizinin tüm l sıralı\n",
        "# permutasyonlarını elde et\n",
        "perm = permutations(n, r) \n",
        "  \n",
        "print(\"Dizisinin tüm \", r, \"'li permutasyonları:\", sep=\"\")\n",
        "# Tüm elde edilen permutasyonları listele\n",
        "for i in list(perm): \n",
        "    print(i) "
      ],
      "execution_count": 2,
      "outputs": [
        {
          "output_type": "stream",
          "text": [
            "Giriş dizisi: [1, 2, 3]\n",
            "Dizisinin tüm 2'li permutasyonları:\n",
            "(1, 2)\n",
            "(1, 3)\n",
            "(2, 1)\n",
            "(2, 3)\n",
            "(3, 1)\n",
            "(3, 2)\n"
          ],
          "name": "stdout"
        }
      ]
    },
    {
      "metadata": {
        "id": "B0D78lf182em",
        "colab_type": "text"
      },
      "cell_type": "markdown",
      "source": [
        "Dizinin uzunluğu n ve istenilen sıralama sayısı r ise işlem sonucu nCr * r! permutasyonlarını verir."
      ]
    },
    {
      "metadata": {
        "id": "Sh17az8ADzht",
        "colab_type": "text"
      },
      "cell_type": "markdown",
      "source": [
        "## Kombinasyon\n",
        "\n",
        "Kombinasyon kümedeki tanımlı elemanları kaç farklı şekilde seçilir sorusuna cevap veriyor. Kombinasyonda sıra önemli değildir.\n",
        "\n",
        "Dizi elemanlarının tüm kombinasyonlarını bulmak için \"itertools\" kütüphanesinin \"combinations\" fonksiyonu kullanılır.\n",
        "Bu örnekte giriş olarak n listesini ve r sayısını alıyor ve n elemanlarının r'li kombinasyonlarını (nCr) içeren \"tuple\" veri yapılarını çıkış olarak verir."
      ]
    },
    {
      "metadata": {
        "colab_type": "code",
        "id": "Z9hen4nWzmRP",
        "outputId": "ae7b122e-decc-4fcc-9d89-158ae010d9c6",
        "colab": {
          "base_uri": "https://localhost:8080/",
          "height": 104
        }
      },
      "cell_type": "code",
      "source": [
        "# Dizinin verilen uzunlukta (r) tüm kombinasyonlarını listele\n",
        "\n",
        "# \"itertools\" kütüphanesini yükle\n",
        "from itertools import combinations\n",
        "\n",
        "# Giriş dizisi\n",
        "n = [1, 2, 3]\n",
        "\n",
        "# Seçim uzunluğu\n",
        "r = 2\n",
        "\n",
        "print(\"Giriş dizisi:\", n)\n",
        "\n",
        "# Dizinin tüm r'li kombinasyonlarını bul\n",
        "comb = combinations(n, r) \n",
        "\n",
        "print(\"Dizisinin tüm \", r, \"'li kombinasyonları:\", sep=\"\")\n",
        "# Tüm elde edilen kombinasyonları listele\n",
        "for i in list(comb): \n",
        "    print(i)"
      ],
      "execution_count": 3,
      "outputs": [
        {
          "output_type": "stream",
          "text": [
            "Giriş dizisi: [1, 2, 3]\n",
            "Dizisinin tüm 2'li kombinasyonları:\n",
            "(1, 2)\n",
            "(1, 3)\n",
            "(2, 3)\n"
          ],
          "name": "stdout"
        }
      ]
    },
    {
      "metadata": {
        "id": "tJunez3dI1oF",
        "colab_type": "text"
      },
      "cell_type": "markdown",
      "source": [
        "\"itertools\" kütüphanesindeki \"combinations\" fonksiyonu giriş olarak verilen n elemanlar listesinin sırasını bozmadan aynı giriş sırasına göre r'li kombinasyonlarını elde eder."
      ]
    },
    {
      "metadata": {
        "id": "tO6ypGjhA2WD",
        "colab_type": "code",
        "outputId": "5127b207-ad26-40b0-f42d-1395131e4ad1",
        "colab": {
          "base_uri": "https://localhost:8080/",
          "height": 104
        }
      },
      "cell_type": "code",
      "source": [
        "# Dizinin verilen uzunlukta (r)\n",
        "# tüm sırasız kombinasyonlarını listele\n",
        "\n",
        "# \"itertools\" kütüphanesini yükle\n",
        "from itertools import combinations\n",
        "\n",
        "# Giriş dizisi\n",
        "n = [2, 1, 3]\n",
        "\n",
        "# Seçim uzunluğu\n",
        "r = 2\n",
        "\n",
        "print(\"Giriş dizisi:\", n)\n",
        "  \n",
        "# Dizinin tüm r'li kombinasyonlarını bul\n",
        "comb = combinations(n, r) \n",
        "  \n",
        "print(\"Dizisinin tüm \", r, \"'li kombinasyonları:\", sep=\"\")\n",
        "# Tüm elde edilen kombinasyonları listele\n",
        "for i in list(comb): \n",
        "    print(i)"
      ],
      "execution_count": 4,
      "outputs": [
        {
          "output_type": "stream",
          "text": [
            "Giriş dizisi: [2, 1, 3]\n",
            "Dizisinin tüm 2'li kombinasyonları:\n",
            "(2, 1)\n",
            "(2, 3)\n",
            "(1, 3)\n"
          ],
          "name": "stdout"
        }
      ]
    },
    {
      "metadata": {
        "id": "Y9L8T-cnJ8eL",
        "colab_type": "text"
      },
      "cell_type": "markdown",
      "source": [
        "Listedeki elemanlar değerlerine göre değil, konumlarına göre benzersiz olarak değerlendirilir. Dolayısıyla her kombinasyonda tekrarlanan elemanlar olmayacaktır."
      ]
    },
    {
      "metadata": {
        "id": "gG5izfZRA4f5",
        "colab_type": "code",
        "outputId": "3e71ec2e-01f2-4840-c035-885974770489",
        "colab": {
          "base_uri": "https://localhost:8080/",
          "height": 104
        }
      },
      "cell_type": "code",
      "source": [
        "# Dizinin verilen uzunlukta (r)\n",
        "# içerisinde eşit değerli elemanlar\n",
        "# bulunduran tüm kombinasyonlarını listele\n",
        "\n",
        "# \"itertools\" kütüphanesini yükle\n",
        "from itertools import combinations \n",
        "\n",
        "# Giriş dizisi\n",
        "n = [1, 1, 3]\n",
        "\n",
        "# Seçim uzunluğu\n",
        "r = 2\n",
        "\n",
        "print(\"Giriş dizisi:\", n)\n",
        "  \n",
        "# Dizinin tüm r'li kombinasyonlarını bul\n",
        "comb = combinations(n, r) \n",
        "  \n",
        "print(\"Dizisinin tüm \", r, \"'li kombinasyonları:\", sep=\"\")\n",
        "# Tüm elde edilen kombinasyonları listele\n",
        "for i in list(comb): \n",
        "    print(i)"
      ],
      "execution_count": 5,
      "outputs": [
        {
          "output_type": "stream",
          "text": [
            "Giriş dizisi: [1, 1, 3]\n",
            "Dizisinin tüm 2'li kombinasyonları:\n",
            "(1, 1)\n",
            "(1, 3)\n",
            "(1, 3)\n"
          ],
          "name": "stdout"
        }
      ]
    },
    {
      "metadata": {
        "id": "W7sJZneNLCim",
        "colab_type": "text"
      },
      "cell_type": "markdown",
      "source": [
        "Listenin kendisi ile r'li kombinasyonlarını içermesi istelinirse \"combinations_with_replacement\" fonksiyonu kullanılır. Genelde bu işlem \"kartezyan çarpım\" olarak biliniyor."
      ]
    },
    {
      "metadata": {
        "id": "iFSTs9HoBDdy",
        "colab_type": "code",
        "outputId": "e8f857a5-721e-420e-f724-09c437920a30",
        "colab": {
          "base_uri": "https://localhost:8080/",
          "height": 156
        }
      },
      "cell_type": "code",
      "source": [
        "# Dizinin verilen uzunlukta (r) dizinin \n",
        "# kendisi ile kombinasyon sonucunu listele\n",
        "\n",
        "# \"itertools\" kütüphanesini yükle\n",
        "from itertools import combinations_with_replacement \n",
        "\n",
        "# Giriş dizisi\n",
        "n = [1, 2, 3]\n",
        "\n",
        "# Seçim uzunluğu\n",
        "r = 2\n",
        "\n",
        "print(\"Giriş dizisi:\", n)\n",
        "  \n",
        "# Dizinin tüm r'li kombinasyonlarını bul\n",
        "comb = combinations_with_replacement(n, r) \n",
        "  \n",
        "print(\"Dizisinin tüm \", r, \"'li kombinasyonları:\", sep=\"\")\n",
        "# Tüm elde edilen kombinasyonları listele\n",
        "for i in list(comb): \n",
        "    print(i)"
      ],
      "execution_count": 6,
      "outputs": [
        {
          "output_type": "stream",
          "text": [
            "Giriş dizisi: [1, 2, 3]\n",
            "Dizisinin tüm 2'li kombinasyonları:\n",
            "(1, 1)\n",
            "(1, 2)\n",
            "(1, 3)\n",
            "(2, 2)\n",
            "(2, 3)\n",
            "(3, 3)\n"
          ],
          "name": "stdout"
        }
      ]
    },
    {
      "metadata": {
        "id": "UlK03kcmBKUy",
        "colab_type": "text"
      },
      "cell_type": "markdown",
      "source": [
        "# Kaynak:\n",
        "\n",
        "[1] Raju Varshney, \"Permutation and Combination in Python\" in GeeksforGeeks. [Online]. Available: https://www.geeksforgeeks.org/permutation-and-combination-in-python/ [Accessed Mar. 20, 2019]."
      ]
    }
  ]
}