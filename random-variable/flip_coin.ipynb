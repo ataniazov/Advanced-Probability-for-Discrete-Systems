{
  "nbformat": 4,
  "nbformat_minor": 0,
  "metadata": {
    "colab": {
      "name": "flip_coin.ipynb",
      "version": "0.3.2",
      "provenance": [],
      "collapsed_sections": [],
      "include_colab_link": true
    },
    "kernelspec": {
      "name": "python3",
      "display_name": "Python 3"
    }
  },
  "cells": [
    {
      "cell_type": "markdown",
      "metadata": {
        "id": "view-in-github",
        "colab_type": "text"
      },
      "source": [
        "<a href=\"https://colab.research.google.com/github/ataniazov/Advanced-Probability-for-Discrete-Systems/blob/master/random-variable/flip_coin.ipynb\" target=\"_parent\"><img src=\"https://colab.research.google.com/assets/colab-badge.svg\" alt=\"Open In Colab\"/></a>"
      ]
    },
    {
      "cell_type": "code",
      "metadata": {
        "id": "eYq4HsgRJ483",
        "colab_type": "code",
        "colab": {}
      },
      "source": [
        "import random\n",
        "import numpy as np\n",
        "import pandas as pd\n",
        "import matplotlib.pyplot as plt\n",
        "from scipy import stats\n",
        "from enum import Enum, auto"
      ],
      "execution_count": 0,
      "outputs": []
    },
    {
      "cell_type": "code",
      "metadata": {
        "id": "ktkpTpiCVw6W",
        "colab_type": "code",
        "colab": {
          "base_uri": "https://localhost:8080/",
          "height": 119
        },
        "outputId": "cc6b9404-4eb1-4bde-e9a2-4cc04e71181f"
      },
      "source": [
        "class Coin(Enum):\n",
        "  HEAD = auto()    # HEADS\n",
        "  TAIL = auto()    # TAILS\n",
        "\n",
        "print(list(Coin))\n",
        "\n",
        "print()\n",
        "\n",
        "print(\"Coin:\")\n",
        "\n",
        "for coin in Coin:\n",
        "  print(coin.name)\n",
        "\n",
        "print()"
      ],
      "execution_count": 2,
      "outputs": [
        {
          "output_type": "stream",
          "text": [
            "[<Coin.HEAD: 1>, <Coin.TAIL: 2>]\n",
            "\n",
            "Coin:\n",
            "HEAD\n",
            "TAIL\n",
            "\n"
          ],
          "name": "stdout"
        }
      ]
    },
    {
      "cell_type": "code",
      "metadata": {
        "id": "QRQc4za1P_uR",
        "colab_type": "code",
        "colab": {
          "base_uri": "https://localhost:8080/",
          "height": 51
        },
        "outputId": "737c866f-503d-4b77-b1b7-5a8421296f93"
      },
      "source": [
        "fliptimes = 3\n",
        "\n",
        "results = []\n",
        "\n",
        "for flip in range(fliptimes):\n",
        "  results.append(random.choice(list(Coin)))\n",
        "\n",
        "print(\"Flip results:\")\n",
        "for result in results:\n",
        "  print(result.name, end = ' ')\n"
      ],
      "execution_count": 3,
      "outputs": [
        {
          "output_type": "stream",
          "text": [
            "Flip results:\n",
            "TAIL TAIL TAIL "
          ],
          "name": "stdout"
        }
      ]
    },
    {
      "cell_type": "code",
      "metadata": {
        "id": "zebPr1FzV0Qx",
        "colab_type": "code",
        "colab": {}
      },
      "source": [
        "def increment(arr):\n",
        "    last = n - 1\n",
        "    cut_off = len(states) - 1\n",
        " \n",
        "    arr[last] += 1\n",
        " \n",
        "    for i in range(last, 0, -1):\n",
        "        if arr[i] > cut_off:\n",
        "            arr[i] = 0\n",
        "            arr[i - 1] += 1\n",
        "        else:\n",
        "            break\n",
        "    return arr\n",
        " \n",
        "def permutations(states, n):\n",
        "    if len(states) <= 1: return\n",
        "    if n == 0: return\n",
        " \n",
        "    current = [0] * n\n",
        " \n",
        "    out = []\n",
        "    count = 0\n",
        " \n",
        "    possibilities = len(states)**n\n",
        " \n",
        "    while count < possibilities:\n",
        "        new_permutation = []\n",
        " \n",
        "        for i in range(0, n):\n",
        "            j = current[i]\n",
        "            new_permutation += [states[j]]\n",
        "        out += [new_permutation]\n",
        " \n",
        "        count += 1\n",
        "        current = increment(current)\n",
        " \n",
        "    return out"
      ],
      "execution_count": 0,
      "outputs": []
    },
    {
      "cell_type": "code",
      "metadata": {
        "id": "ww2B6Dl9RBYp",
        "colab_type": "code",
        "colab": {
          "base_uri": "https://localhost:8080/",
          "height": 170
        },
        "outputId": "8ddbd17a-e557-47cc-cb00-c1e3d6f1e674"
      },
      "source": [
        "states = list(Coin)\n",
        "n = fliptimes\n",
        "\n",
        "SampleSpace = permutations(states, n)\n",
        "\n",
        "print(\"Sample Space:\")\n",
        "for flips in SampleSpace:\n",
        "  for coin in flips:\n",
        "    print(coin.name, end = ' ')\n",
        "  print()"
      ],
      "execution_count": 5,
      "outputs": [
        {
          "output_type": "stream",
          "text": [
            "Sample Space:\n",
            "HEAD HEAD HEAD \n",
            "HEAD HEAD TAIL \n",
            "HEAD TAIL HEAD \n",
            "HEAD TAIL TAIL \n",
            "TAIL HEAD HEAD \n",
            "TAIL HEAD TAIL \n",
            "TAIL TAIL HEAD \n",
            "TAIL TAIL TAIL \n"
          ],
          "name": "stdout"
        }
      ]
    },
    {
      "cell_type": "code",
      "metadata": {
        "id": "1Nd3OpFGdDsf",
        "colab_type": "code",
        "colab": {
          "base_uri": "https://localhost:8080/",
          "height": 238
        },
        "outputId": "60b29b7e-f2da-426f-8c14-6c5f81ce83c3"
      },
      "source": [
        "X = Coin.TAIL\n",
        "print(\"X =\",X.name)\n",
        "\n",
        "print()\n",
        "\n",
        "RandomVariable = []\n",
        "\n",
        "for flips in SampleSpace:\n",
        "  occurrence = flips.count(X)\n",
        "  if occurrence not in RandomVariable:\n",
        "    RandomVariable.append(occurrence)\n",
        "  for coin in flips:\n",
        "    print(coin.name, end = ' ')\n",
        "  print(\"=>\", occurrence)\n",
        "\n",
        "print()\n",
        "\n",
        "print(\"Random Variable:\")\n",
        "\n",
        "RandomVariable.sort()\n",
        "\n",
        "print(RandomVariable)"
      ],
      "execution_count": 6,
      "outputs": [
        {
          "output_type": "stream",
          "text": [
            "X = TAIL\n",
            "\n",
            "HEAD HEAD HEAD => 0\n",
            "HEAD HEAD TAIL => 1\n",
            "HEAD TAIL HEAD => 1\n",
            "HEAD TAIL TAIL => 2\n",
            "TAIL HEAD HEAD => 1\n",
            "TAIL HEAD TAIL => 2\n",
            "TAIL TAIL HEAD => 2\n",
            "TAIL TAIL TAIL => 3\n",
            "\n",
            "Random Variable:\n",
            "[0, 1, 2, 3]\n"
          ],
          "name": "stdout"
        }
      ]
    },
    {
      "cell_type": "code",
      "metadata": {
        "id": "b8fS7HVZjEfH",
        "colab_type": "code",
        "colab": {}
      },
      "source": [
        "states = list(Coin)\n",
        "samplespace = SampleSpace\n",
        "one_event_prob = 1 / len(states)\n",
        "\n",
        "def P_X_x(event, occr_num):\n",
        "  result = 0\n",
        "  event_prob = 1\n",
        "  for events in samplespace:\n",
        "    event_prob = 1\n",
        "    occurrence = events.count(event)\n",
        "    if occurrence == occr_num:\n",
        "      for e in events:\n",
        "        event_prob *= one_event_prob\n",
        "      result += event_prob\n",
        "  return result"
      ],
      "execution_count": 0,
      "outputs": []
    },
    {
      "cell_type": "code",
      "metadata": {
        "id": "MwrHAkzywdD8",
        "colab_type": "code",
        "colab": {
          "base_uri": "https://localhost:8080/",
          "height": 85
        },
        "outputId": "c4047131-95a7-41bf-d537-4cf0eefe5612"
      },
      "source": [
        "print(\"P(X=0) =\", P_X_x(X, 0))\n",
        "print(\"P(X=1) =\", P_X_x(X, 1))\n",
        "print(\"P(X=2) =\", P_X_x(X, 2))\n",
        "print(\"P(X=3) =\", P_X_x(X, 3))"
      ],
      "execution_count": 8,
      "outputs": [
        {
          "output_type": "stream",
          "text": [
            "P(X=0) = 0.125\n",
            "P(X=1) = 0.375\n",
            "P(X=2) = 0.375\n",
            "P(X=3) = 0.125\n"
          ],
          "name": "stdout"
        }
      ]
    },
    {
      "cell_type": "code",
      "metadata": {
        "id": "9aknoMoD3Uhr",
        "colab_type": "code",
        "colab": {
          "base_uri": "https://localhost:8080/",
          "height": 207
        },
        "outputId": "5a744fb6-5086-40fa-ac2c-8363cb715f04"
      },
      "source": [
        "PMF = []\n",
        "\n",
        "for i in RandomVariable:\n",
        "  PMF.append(P_X_x(X, i))\n",
        "\n",
        "print(\"X:\", RandomVariable)\n",
        "print(\"P(X=x):\", PMF)\n",
        "\n",
        "pd.DataFrame(PMF, columns=[\"P(X=x)\"])"
      ],
      "execution_count": 9,
      "outputs": [
        {
          "output_type": "stream",
          "text": [
            "X: [0, 1, 2, 3]\n",
            "P(X=x): [0.125, 0.375, 0.375, 0.125]\n"
          ],
          "name": "stdout"
        },
        {
          "output_type": "execute_result",
          "data": {
            "text/html": [
              "<div>\n",
              "<style scoped>\n",
              "    .dataframe tbody tr th:only-of-type {\n",
              "        vertical-align: middle;\n",
              "    }\n",
              "\n",
              "    .dataframe tbody tr th {\n",
              "        vertical-align: top;\n",
              "    }\n",
              "\n",
              "    .dataframe thead th {\n",
              "        text-align: right;\n",
              "    }\n",
              "</style>\n",
              "<table border=\"1\" class=\"dataframe\">\n",
              "  <thead>\n",
              "    <tr style=\"text-align: right;\">\n",
              "      <th></th>\n",
              "      <th>P(X=x)</th>\n",
              "    </tr>\n",
              "  </thead>\n",
              "  <tbody>\n",
              "    <tr>\n",
              "      <th>0</th>\n",
              "      <td>0.125</td>\n",
              "    </tr>\n",
              "    <tr>\n",
              "      <th>1</th>\n",
              "      <td>0.375</td>\n",
              "    </tr>\n",
              "    <tr>\n",
              "      <th>2</th>\n",
              "      <td>0.375</td>\n",
              "    </tr>\n",
              "    <tr>\n",
              "      <th>3</th>\n",
              "      <td>0.125</td>\n",
              "    </tr>\n",
              "  </tbody>\n",
              "</table>\n",
              "</div>"
            ],
            "text/plain": [
              "   P(X=x)\n",
              "0   0.125\n",
              "1   0.375\n",
              "2   0.375\n",
              "3   0.125"
            ]
          },
          "metadata": {
            "tags": []
          },
          "execution_count": 9
        }
      ]
    },
    {
      "cell_type": "code",
      "metadata": {
        "id": "nW1-9V5LGmqw",
        "colab_type": "code",
        "colab": {
          "base_uri": "https://localhost:8080/",
          "height": 281
        },
        "outputId": "63a2ae69-0c2c-4496-a432-1285aa3cf25d"
      },
      "source": [
        "xk = RandomVariable\n",
        "pk = PMF\n",
        "custm = stats.rv_discrete(name='custm', values=(xk, pk))\n",
        "\n",
        "fig, ax = plt.subplots(1, 1)\n",
        "ax.plot(xk, custm.pmf(xk), 'ro', ms=8, mec='r')\n",
        "ax.vlines(xk, 0, custm.pmf(xk), colors='r', linestyles='-', lw=3)\n",
        "plt.title('Discrete distribution (PMF)')\n",
        "plt.ylabel('Probability')\n",
        "plt.show()"
      ],
      "execution_count": 10,
      "outputs": [
        {
          "output_type": "display_data",
          "data": {
            "image/png": "[encoded data removed]",
            "text/plain": [
              "<Figure size 432x288 with 1 Axes>"
            ]
          },
          "metadata": {
            "tags": []
          }
        }
      ]
    }
  ]
}