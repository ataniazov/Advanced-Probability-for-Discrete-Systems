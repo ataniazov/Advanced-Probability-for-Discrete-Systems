{
  "nbformat": 4,
  "nbformat_minor": 0,
  "metadata": {
    "colab": {
      "name": "variance_bernoulli_binomial.ipynb",
      "version": "0.3.2",
      "provenance": [],
      "collapsed_sections": [],
      "include_colab_link": true
    },
    "kernelspec": {
      "name": "python3",
      "display_name": "Python 3"
    }
  },
  "cells": [
    {
      "cell_type": "markdown",
      "metadata": {
        "id": "view-in-github",
        "colab_type": "text"
      },
      "source": [
        "<a href=\"https://colab.research.google.com/github/ataniazov/Advanced-Probability-for-Discrete-Systems/blob/master/variance-bernoulli-binomial/variance_bernoulli_binomial.ipynb\" target=\"_parent\"><img src=\"https://colab.research.google.com/assets/colab-badge.svg\" alt=\"Open In Colab\"/></a>"
      ]
    },
    {
      "cell_type": "markdown",
      "metadata": {
        "id": "aQpO_xpeYFUW",
        "colab_type": "text"
      },
      "source": [
        "# Zar atılması"
      ]
    },
    {
      "cell_type": "code",
      "metadata": {
        "id": "sQsqh6T7Ebxj",
        "colab_type": "code",
        "outputId": "1f4ac4e3-090a-4051-89be-160ad273e3d8",
        "colab": {
          "base_uri": "https://localhost:8080/",
          "height": 34
        }
      },
      "source": [
        "import random, math\n",
        "\n",
        "debug = 0\n",
        "rolltimes = 6\n",
        "\n",
        "# Zar\n",
        "DIE = [1, 2, 3, 4, 5, 6]\n",
        "\n",
        "print(\"Die:\", DIE)"
      ],
      "execution_count": 1,
      "outputs": [
        {
          "output_type": "stream",
          "text": [
            "Die: [1, 2, 3, 4, 5, 6]\n"
          ],
          "name": "stdout"
        }
      ]
    },
    {
      "cell_type": "markdown",
      "metadata": {
        "id": "AH1qB3dDfzM9",
        "colab_type": "text"
      },
      "source": [
        "# Rastgelelik"
      ]
    },
    {
      "cell_type": "code",
      "metadata": {
        "id": "WozfQrnVfvs0",
        "colab_type": "code",
        "outputId": "e604280c-5c44-480a-9cfa-4b2eba47dd56",
        "colab": {
          "base_uri": "https://localhost:8080/",
          "height": 34
        }
      },
      "source": [
        "def Roll_a_Die(die, times):\n",
        "  rollresults = []\n",
        "  for roll in range(times):\n",
        "    rollresults.append(random.choice(die))\n",
        "  return rollresults\n",
        "\n",
        "# Zar atılma sonuclari\n",
        "print(\"Roll results:\", Roll_a_Die(DIE, rolltimes))"
      ],
      "execution_count": 2,
      "outputs": [
        {
          "output_type": "stream",
          "text": [
            "Roll results: [2, 2, 1, 4, 5, 2]\n"
          ],
          "name": "stdout"
        }
      ]
    },
    {
      "cell_type": "markdown",
      "metadata": {
        "id": "XeBhKVLBbPHp",
        "colab_type": "text"
      },
      "source": [
        "# Tekrarlı Permutasyon"
      ]
    },
    {
      "cell_type": "code",
      "metadata": {
        "id": "kBO4DZzzZloR",
        "colab_type": "code",
        "colab": {}
      },
      "source": [
        "def increment(arr, states, n):\n",
        "    last = n - 1\n",
        "    cut_off = len(states) - 1\n",
        " \n",
        "    arr[last] += 1\n",
        " \n",
        "    for i in range(last, 0, -1):\n",
        "        if arr[i] > cut_off:\n",
        "            arr[i] = 0\n",
        "            arr[i - 1] += 1\n",
        "        else:\n",
        "            break\n",
        "    return arr\n",
        " \n",
        "def permutations(states, n):\n",
        "    if len(states) <= 1: return\n",
        "    if n == 0: return\n",
        " \n",
        "    current = [0] * n\n",
        " \n",
        "    out = []\n",
        "    count = 0\n",
        " \n",
        "    possibilities = len(states)**n\n",
        " \n",
        "    while count < possibilities:\n",
        "        new_permutation = []\n",
        " \n",
        "        for i in range(0, n):\n",
        "            j = current[i]\n",
        "            new_permutation += [states[j]]\n",
        "        out += [new_permutation]\n",
        " \n",
        "        count += 1\n",
        "        current = increment(current, states, n)\n",
        " \n",
        "    return out"
      ],
      "execution_count": 0,
      "outputs": []
    },
    {
      "cell_type": "markdown",
      "metadata": {
        "id": "PpL4XpJoameR",
        "colab_type": "text"
      },
      "source": [
        "# Örnek uzay"
      ]
    },
    {
      "cell_type": "code",
      "metadata": {
        "id": "skXcGqz1YAll",
        "colab_type": "code",
        "outputId": "c3c7ae5b-822b-49ea-e356-ca01f736291a",
        "colab": {
          "base_uri": "https://localhost:8080/",
          "height": 51
        }
      },
      "source": [
        "# Olasılık:\n",
        "def P(samplespace):\n",
        "  return 1/len(samplespace)\n",
        "\n",
        "print('P =', P(DIE))\n",
        "\n",
        "print()\n",
        "\n",
        "SampleSpace = permutations(DIE, rolltimes)\n",
        "\n",
        "if debug:\n",
        "  print(\"Sample Space:\")\n",
        "  for rolls in SampleSpace:\n",
        "    for die in rolls:\n",
        "      print(die, end = ' ')\n",
        "    print()"
      ],
      "execution_count": 4,
      "outputs": [
        {
          "output_type": "stream",
          "text": [
            "P = 0.16666666666666666\n",
            "\n"
          ],
          "name": "stdout"
        }
      ]
    },
    {
      "cell_type": "markdown",
      "metadata": {
        "id": "Qta8uqVAbvLV",
        "colab_type": "text"
      },
      "source": [
        "# Rastgele değişken"
      ]
    },
    {
      "cell_type": "code",
      "metadata": {
        "id": "WzFPVKtAbzBp",
        "colab_type": "code",
        "outputId": "d3378e62-49bf-409b-f79f-0eee0a4e5101",
        "colab": {
          "base_uri": "https://localhost:8080/",
          "height": 85
        }
      },
      "source": [
        "X = 5\n",
        "print(\"X =\", X)\n",
        "\n",
        "print()\n",
        "\n",
        "RandomVariable = []\n",
        "\n",
        "for rolls in SampleSpace:\n",
        "  occurrence = rolls.count(X)\n",
        "  if occurrence not in RandomVariable:\n",
        "    RandomVariable.append(occurrence)\n",
        "  if debug:\n",
        "    for die in rolls:\n",
        "      print(die, end = ' ')\n",
        "    print(\"=>\", occurrence)\n",
        "\n",
        "#RandomVariable.sort()\n",
        "\n",
        "print(\"Random Variable:\")\n",
        "print(RandomVariable)"
      ],
      "execution_count": 5,
      "outputs": [
        {
          "output_type": "stream",
          "text": [
            "X = 5\n",
            "\n",
            "Random Variable:\n",
            "[0, 1, 2, 3, 4, 5, 6]\n"
          ],
          "name": "stdout"
        }
      ]
    },
    {
      "cell_type": "markdown",
      "metadata": {
        "id": "ZJS7TltAgGuC",
        "colab_type": "text"
      },
      "source": [
        "# Olasılık dağılımı"
      ]
    },
    {
      "cell_type": "code",
      "metadata": {
        "id": "t5OAxez5eDej",
        "colab_type": "code",
        "outputId": "ac5c515f-7f3f-4f74-84cd-43ccc697ff9d",
        "colab": {
          "base_uri": "https://localhost:8080/",
          "height": 136
        }
      },
      "source": [
        "# Olasılık dağılımı:\n",
        "def P_X_x(samplespace, states, event, occr_num):\n",
        "  one_event_prob = P(states)\n",
        "  result = 0\n",
        "  event_prob = 1\n",
        "  for events in samplespace:\n",
        "    event_prob = 1\n",
        "    occurrence = events.count(event)\n",
        "    if occurrence == occr_num:\n",
        "      for e in events:\n",
        "        event_prob *= one_event_prob\n",
        "      result += event_prob\n",
        "  return result\n",
        "\n",
        "#if debug:\n",
        "for rv in RandomVariable:\n",
        "  print('P(X={}) = {}'.format(rv,P_X_x(SampleSpace, DIE, X, rv)))"
      ],
      "execution_count": 6,
      "outputs": [
        {
          "output_type": "stream",
          "text": [
            "P(X=0) = 0.3348979766803261\n",
            "P(X=1) = 0.40187757201637914\n",
            "P(X=2) = 0.20093878600822004\n",
            "P(X=3) = 0.05358367626886006\n",
            "P(X=4) = 0.008037551440329261\n",
            "P(X=5) = 0.000643004115226337\n",
            "P(X=6) = 2.1433470507544577e-05\n"
          ],
          "name": "stdout"
        }
      ]
    },
    {
      "cell_type": "markdown",
      "metadata": {
        "id": "qfwKQ38UDmf3",
        "colab_type": "text"
      },
      "source": [
        "# Beklenen değer\n",
        "\n",
        "Rastgele değişkenin alması beklenen değer her bir rastgele değişken ile o rastgele değişkene ait olasılıklar çarpılır ve toplanır."
      ]
    },
    {
      "cell_type": "code",
      "metadata": {
        "id": "Lzbbx_PDgJRB",
        "colab_type": "code",
        "outputId": "f18f01a7-2c22-46f2-b4fc-271cac7de996",
        "colab": {
          "base_uri": "https://localhost:8080/",
          "height": 34
        }
      },
      "source": [
        "# Beklenen değer:\n",
        "def E(X):\n",
        "  one_event_prob = P(X)\n",
        "  result = 0\n",
        "  for x in X:\n",
        "    result += (x * one_event_prob)\n",
        "  return result\n",
        "\n",
        "print(\"E =\", E(DIE))"
      ],
      "execution_count": 7,
      "outputs": [
        {
          "output_type": "stream",
          "text": [
            "E = 3.5\n"
          ],
          "name": "stdout"
        }
      ]
    },
    {
      "cell_type": "markdown",
      "metadata": {
        "id": "lEzTifcrDXNV",
        "colab_type": "text"
      },
      "source": [
        "# Varyans\n",
        "\n",
        "Yayılımdaki değişim miktarı."
      ]
    },
    {
      "cell_type": "code",
      "metadata": {
        "id": "wmSXE1kjmqYU",
        "colab_type": "code",
        "outputId": "40e95105-a5e2-4cf2-ff53-3707c22944d3",
        "colab": {
          "base_uri": "https://localhost:8080/",
          "height": 85
        }
      },
      "source": [
        "def square(list):\n",
        "  result = []\n",
        "  for i in list:\n",
        "    result.append(i**2)\n",
        "  return result\n",
        "\n",
        "def Var(X):\n",
        "  return (E(square(X)) - (E(X)**2))\n",
        "\n",
        "print(\"E(X^2) =\", E(square(DIE)))\n",
        "print(\"E(X)^2 =\", E(DIE)**2)\n",
        "print()\n",
        "print(\"1: Var(X) =\", Var(DIE))"
      ],
      "execution_count": 8,
      "outputs": [
        {
          "output_type": "stream",
          "text": [
            "E(X^2) = 15.166666666666666\n",
            "E(X)^2 = 12.25\n",
            "\n",
            "1: Var(X) = 2.916666666666666\n"
          ],
          "name": "stdout"
        }
      ]
    },
    {
      "cell_type": "code",
      "metadata": {
        "id": "ooRWRybGzVFJ",
        "colab_type": "code",
        "outputId": "b0cd8501-5fa5-4f6e-8d30-1f4f7890371a",
        "colab": {
          "base_uri": "https://localhost:8080/",
          "height": 68
        }
      },
      "source": [
        "# Ortalama:\n",
        "def average(X):\n",
        "  result = 0\n",
        "  for x in X:\n",
        "    result += x\n",
        "  return (result / len(X))\n",
        "\n",
        "def map(list, value):\n",
        "  result = []\n",
        "  for i in list:\n",
        "    result.append(i - value)\n",
        "  return result\n",
        "\n",
        "# Ortalaması μ olan rastgele X degiskenin varyansı:\n",
        "def Var(X):\n",
        "  return (E(square(map(X, average(X)))))\n",
        "\n",
        "print(\"μ =\", average(DIE))\n",
        "print()\n",
        "print(\"2: Var(X) =\", Var(DIE))"
      ],
      "execution_count": 9,
      "outputs": [
        {
          "output_type": "stream",
          "text": [
            "μ = 3.5\n",
            "\n",
            "2: Var(X) = 2.9166666666666665\n"
          ],
          "name": "stdout"
        }
      ]
    },
    {
      "cell_type": "markdown",
      "metadata": {
        "id": "KTdlDE13y_3e",
        "colab_type": "text"
      },
      "source": [
        "# Standart sapma"
      ]
    },
    {
      "cell_type": "code",
      "metadata": {
        "id": "FLqlErxEpdiY",
        "colab_type": "code",
        "outputId": "3fdcf831-cd58-4418-c8e9-d13be44cacca",
        "colab": {
          "base_uri": "https://localhost:8080/",
          "height": 34
        }
      },
      "source": [
        "# Standart sapma:\n",
        "def sigma(X):\n",
        "  return math.sqrt(Var(X))\n",
        "\n",
        "print(\"σ =\", sigma(DIE))"
      ],
      "execution_count": 10,
      "outputs": [
        {
          "output_type": "stream",
          "text": [
            "σ = 1.707825127659933\n"
          ],
          "name": "stdout"
        }
      ]
    },
    {
      "cell_type": "markdown",
      "metadata": {
        "id": "QRrNLa4z-IVN",
        "colab_type": "text"
      },
      "source": [
        "# Bernoulli\n",
        "Bir deneyde basarı ve basarısızlık diye nitelendirilen iki sonuçla ilgilenildiginde bu deneye (iki sonuçlu) Bernoulli deneyi denir.\n",
        "\n",
        "Basarı olasılıgı ⇒ p, (0 < p < 1)\n",
        "\n",
        "Basarısızlık olasılıgı ⇒ 1 - p = q"
      ]
    },
    {
      "cell_type": "code",
      "metadata": {
        "id": "_r4_ZC86Fopq",
        "colab_type": "code",
        "colab": {}
      },
      "source": [
        "# Bernoulli dagılımının olasılık fonksiyonu:\n",
        "def bernoulli(p, x):\n",
        "  result = 0\n",
        "  if x == 0 or x == 1:\n",
        "    result = ((p**x) * (1-p)**(1-x))\n",
        "  return result"
      ],
      "execution_count": 0,
      "outputs": []
    },
    {
      "cell_type": "markdown",
      "metadata": {
        "id": "THLzzNVDAw_Q",
        "colab_type": "text"
      },
      "source": [
        "# Binomial\n",
        "Basarı olasılıgı p olan bir Bernoulli denemesinin aynı sartlar altında (bagımsız olarak) n kez tekrarlanması ile oluşan deneydir."
      ]
    },
    {
      "cell_type": "code",
      "metadata": {
        "id": "KlKIuGbZ-Mju",
        "colab_type": "code",
        "colab": {}
      },
      "source": [
        "# Faktöriel formülü:\n",
        "def factorial(n):\n",
        "  if n == 0:\n",
        "    return 1\n",
        "  else:\n",
        "    return n * factorial(n-1)\n",
        "\n",
        "# Binomial dagılımının olasılık fonksiyonu:\n",
        "def X_Bin(p, n, k):\n",
        "  result = 0\n",
        "  if 0 <= k and k <= n:\n",
        "    result = (factorial(n)/(factorial(k)*factorial(n-k))) * ((p**k) * (1-p)**(n-k))\n",
        "  return result\n",
        "\n",
        "# Binomial dagılımının beklenen değeri:\n",
        "def E(p, n):\n",
        "  return (n*p)\n",
        "\n",
        "# Binomial dagılımının varyansı:\n",
        "def Var(p, n):\n",
        "  return (n*p*(1-p))"
      ],
      "execution_count": 0,
      "outputs": []
    },
    {
      "cell_type": "markdown",
      "metadata": {
        "id": "jG0WNrKG3E-m",
        "colab_type": "text"
      },
      "source": [
        "# İlaç kutusu örnegi\n",
        "\n",
        "10 kutu ilacı 5 kutusu aspirin. 3 kutu alınıyor ise alınan kutuların 2'si aspirin olma olasılıgı nedir?"
      ]
    },
    {
      "cell_type": "code",
      "metadata": {
        "id": "49d8MXAQ4v5y",
        "colab_type": "code",
        "colab": {
          "base_uri": "https://localhost:8080/",
          "height": 51
        },
        "outputId": "fb17d655-b164-422d-ece6-e7822cc3c952"
      },
      "source": [
        "print(\"X: Alınan 2 kutunun aspirin olması\")\n",
        "print(\"X~Bin(n = 3, p = 0.5), k = 2:\", X_Bin(0.5, 3, 2))"
      ],
      "execution_count": 13,
      "outputs": [
        {
          "output_type": "stream",
          "text": [
            "X: Alınan 2 kutunun aspirin olması\n",
            "X~Bin(n = 3, p = 0.5), k = 2: 0.375\n"
          ],
          "name": "stdout"
        }
      ]
    },
    {
      "cell_type": "markdown",
      "metadata": {
        "id": "S1zymFdP5oV5",
        "colab_type": "text"
      },
      "source": [
        "# Ag Örnegi\n",
        "\n",
        "P(Bit kaybolma) = 0.1\n",
        "\n",
        "Hamming Kod kullanımındaki bit kaybı olasılığı nedir?"
      ]
    },
    {
      "cell_type": "code",
      "metadata": {
        "id": "YY_No-D953C5",
        "colab_type": "code",
        "colab": {
          "base_uri": "https://localhost:8080/",
          "height": 51
        },
        "outputId": "3faabd39-6994-4a91-a066-8ceed423cfd0"
      },
      "source": [
        "print(\"X: 0 bit kayıbı\")\n",
        "print(\"X~Bin(n = 7, p = 0.1), k = 0:\", round(X_Bin(0.1, 7, 0), 3))"
      ],
      "execution_count": 14,
      "outputs": [
        {
          "output_type": "stream",
          "text": [
            "X: 0 bit kayıbı\n",
            "X~Bin(n = 7, p = 0.1), k = 0: 0.478\n"
          ],
          "name": "stdout"
        }
      ]
    },
    {
      "cell_type": "code",
      "metadata": {
        "id": "wrzrxch76jsc",
        "colab_type": "code",
        "colab": {
          "base_uri": "https://localhost:8080/",
          "height": 68
        },
        "outputId": "87ea258d-872d-427f-a024-236f2fc74313"
      },
      "source": [
        "print(\"X: 0 bit kayıbı\")\n",
        "print(\"X~Bin(n = 4, p = 0.1), k = 0:\", round(X_Bin(0.1, 4, 0), 3))\n",
        "print(\"Hamming Kod kullanılırsa bit kaybı olasılıgı %30 azalır.\")"
      ],
      "execution_count": 15,
      "outputs": [
        {
          "output_type": "stream",
          "text": [
            "X: 0 bit kayıbı\n",
            "X~Bin(n = 4, p = 0.1), k = 0: 0.656\n",
            "Hamming Kod kullanılırsa bit kaybı olasılıgı %30 azalır.\n"
          ],
          "name": "stdout"
        }
      ]
    },
    {
      "cell_type": "markdown",
      "metadata": {
        "id": "6P--0CB167ms",
        "colab_type": "text"
      },
      "source": [
        "# Ameliyat örnegi\n",
        "\n",
        "Ameliyat edilen 10 hastadan %80 iyileştiğı biliniyor ise:\n"
      ]
    },
    {
      "cell_type": "code",
      "metadata": {
        "colab_type": "code",
        "outputId": "a8f8cb12-14a4-4bb1-eef8-d9c2b5e9736d",
        "id": "JAggJoMe70kM",
        "colab": {
          "base_uri": "https://localhost:8080/",
          "height": 51
        }
      },
      "source": [
        "print(\"6 hastanın iyilesme olasılıgı?\")\n",
        "print(\"X~Bin(n = 10, p = 0.80), X = 6:\", round(X_Bin(0.80, 10, 6), 3))"
      ],
      "execution_count": 16,
      "outputs": [
        {
          "output_type": "stream",
          "text": [
            "6 hastanın iyilesme olasılıgı?\n",
            "X~Bin(n = 10, p = 0.80), X = 6: 0.088\n"
          ],
          "name": "stdout"
        }
      ]
    },
    {
      "cell_type": "code",
      "metadata": {
        "id": "ei4ald-g8Z-1",
        "colab_type": "code",
        "colab": {
          "base_uri": "https://localhost:8080/",
          "height": 51
        },
        "outputId": "7907d0e2-e14e-493e-cad0-f5b0e09bcc60"
      },
      "source": [
        "print(\"En az 9 hastanın iyilesme olasılıgı?\")\n",
        "print(\"X~Bin(n = 10, p = 0.80), P(X >= 9) = P(X = 9) + P(X = 10):\", round(X_Bin(0.80, 10, 9) + X_Bin(0.80, 10, 10), 4))"
      ],
      "execution_count": 17,
      "outputs": [
        {
          "output_type": "stream",
          "text": [
            "En az 9 hastanın iyilesme olasılıgı?\n",
            "X~Bin(n = 10, p = 0.80), P(X >= 9) = P(X = 9) + P(X = 10): 0.3758\n"
          ],
          "name": "stdout"
        }
      ]
    },
    {
      "cell_type": "code",
      "metadata": {
        "id": "epkB6_s49QID",
        "colab_type": "code",
        "colab": {
          "base_uri": "https://localhost:8080/",
          "height": 51
        },
        "outputId": "c50ee129-ab4e-4a41-c38c-70239c0450cc"
      },
      "source": [
        "print(\"En fazla 7 hastanın iyilesme olasılıgı?\")\n",
        "print(\"X~Bin(n = 10, p = 0.80), P(X <= 7) = 1-P(X > 7) = 1-(P(X = 8) + P(X = 9) + P(X = 10)):\", end = \" \")\n",
        "print(round(1 - (X_Bin(0.80, 10, 8)+X_Bin(0.80, 10, 9)+X_Bin(0.80, 10, 10)), 4))"
      ],
      "execution_count": 18,
      "outputs": [
        {
          "output_type": "stream",
          "text": [
            "En fazla 7 hastanın iyilesme olasılıgı?\n",
            "X~Bin(n = 10, p = 0.80), P(X <= 7) = 1-P(X > 7) = 1-(P(X = 8) + P(X = 9) + P(X = 10)): 0.3222\n"
          ],
          "name": "stdout"
        }
      ]
    },
    {
      "cell_type": "code",
      "metadata": {
        "id": "LQH_p2Iy-xgd",
        "colab_type": "code",
        "colab": {
          "base_uri": "https://localhost:8080/",
          "height": 85
        },
        "outputId": "0af66aba-0b06-4b97-d735-936c159eb82d"
      },
      "source": [
        "print(\"Ameliyatı basarı ile sonuçlanacak hastaların beklenen sayısı ve varyansı:\")\n",
        "print(\"X~Bin(n = 10, p = 0.80)\")\n",
        "print(\"E(X):\", E(0.8, 10))\n",
        "print(\"Var(X):\", round(Var(0.8, 10), 4))"
      ],
      "execution_count": 19,
      "outputs": [
        {
          "output_type": "stream",
          "text": [
            "Ameliyatı basarı ile sonuçlanacak hastaların beklenen sayısı ve varyansı:\n",
            "X~Bin(n = 10, p = 0.80)\n",
            "E(X): 8.0\n",
            "Var(X): 1.6\n"
          ],
          "name": "stdout"
        }
      ]
    }
  ]
}