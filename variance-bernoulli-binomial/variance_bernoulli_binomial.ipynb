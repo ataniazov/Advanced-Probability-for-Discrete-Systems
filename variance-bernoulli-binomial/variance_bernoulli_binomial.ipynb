{
  "nbformat": 4,
  "nbformat_minor": 0,
  "metadata": {
    "colab": {
      "name": "variance_bernoulli_binomial.ipynb",
      "version": "0.3.2",
      "provenance": [],
      "collapsed_sections": [],
      "include_colab_link": true
    },
    "kernelspec": {
      "name": "python3",
      "display_name": "Python 3"
    }
  },
  "cells": [
    {
      "cell_type": "markdown",
      "metadata": {
        "id": "view-in-github",
        "colab_type": "text"
      },
      "source": [
        "<a href=\"https://colab.research.google.com/github/ataniazov/Advanced-Probability-for-Discrete-Systems/blob/master/variance-bernoulli-binomial/variance_bernoulli_binomial.ipynb\" target=\"_parent\"><img src=\"https://colab.research.google.com/assets/colab-badge.svg\" alt=\"Open In Colab\"/></a>"
      ]
    },
    {
      "cell_type": "markdown",
      "metadata": {
        "id": "aQpO_xpeYFUW",
        "colab_type": "text"
      },
      "source": [
        "# Zar atılması"
      ]
    },
    {
      "cell_type": "code",
      "metadata": {
        "id": "sQsqh6T7Ebxj",
        "colab_type": "code",
        "outputId": "c1eb3c40-b610-47d7-9130-081fc792caab",
        "colab": {
          "base_uri": "https://localhost:8080/",
          "height": 35
        }
      },
      "source": [
        "import random, math\n",
        "\n",
        "debug = 0\n",
        "rolltimes = 6\n",
        "\n",
        "# Zar\n",
        "DIE = [1, 2, 3, 4, 5, 6]\n",
        "\n",
        "print(\"Die:\", DIE)"
      ],
      "execution_count": 53,
      "outputs": [
        {
          "output_type": "stream",
          "text": [
            "Die: [1, 2, 3, 4, 5, 6]\n"
          ],
          "name": "stdout"
        }
      ]
    },
    {
      "cell_type": "markdown",
      "metadata": {
        "id": "AH1qB3dDfzM9",
        "colab_type": "text"
      },
      "source": [
        "# Rastgelelik"
      ]
    },
    {
      "cell_type": "code",
      "metadata": {
        "id": "WozfQrnVfvs0",
        "colab_type": "code",
        "colab": {
          "base_uri": "https://localhost:8080/",
          "height": 35
        },
        "outputId": "2754f5ec-7740-4623-938d-8c006e51dbf4"
      },
      "source": [
        "def Roll_a_Die(die, times):\n",
        "  rollresults = []\n",
        "  for roll in range(times):\n",
        "    rollresults.append(random.choice(die))\n",
        "  return rollresults\n",
        "\n",
        "# Zar atılma sonuclari\n",
        "print(\"Roll results:\", Roll_a_Die(DIE, rolltimes))"
      ],
      "execution_count": 54,
      "outputs": [
        {
          "output_type": "stream",
          "text": [
            "Roll result: [5, 1, 4, 2, 4, 4]\n"
          ],
          "name": "stdout"
        }
      ]
    },
    {
      "cell_type": "markdown",
      "metadata": {
        "id": "XeBhKVLBbPHp",
        "colab_type": "text"
      },
      "source": [
        "# Tekrarlı Permutasyon"
      ]
    },
    {
      "cell_type": "code",
      "metadata": {
        "id": "kBO4DZzzZloR",
        "colab_type": "code",
        "colab": {}
      },
      "source": [
        "def increment(arr, states, n):\n",
        "    last = n - 1\n",
        "    cut_off = len(states) - 1\n",
        " \n",
        "    arr[last] += 1\n",
        " \n",
        "    for i in range(last, 0, -1):\n",
        "        if arr[i] > cut_off:\n",
        "            arr[i] = 0\n",
        "            arr[i - 1] += 1\n",
        "        else:\n",
        "            break\n",
        "    return arr\n",
        " \n",
        "def permutations(states, n):\n",
        "    if len(states) <= 1: return\n",
        "    if n == 0: return\n",
        " \n",
        "    current = [0] * n\n",
        " \n",
        "    out = []\n",
        "    count = 0\n",
        " \n",
        "    possibilities = len(states)**n\n",
        " \n",
        "    while count < possibilities:\n",
        "        new_permutation = []\n",
        " \n",
        "        for i in range(0, n):\n",
        "            j = current[i]\n",
        "            new_permutation += [states[j]]\n",
        "        out += [new_permutation]\n",
        " \n",
        "        count += 1\n",
        "        current = increment(current, states, n)\n",
        " \n",
        "    return out"
      ],
      "execution_count": 0,
      "outputs": []
    },
    {
      "cell_type": "markdown",
      "metadata": {
        "id": "PpL4XpJoameR",
        "colab_type": "text"
      },
      "source": [
        "# Örnek uzay"
      ]
    },
    {
      "cell_type": "code",
      "metadata": {
        "id": "skXcGqz1YAll",
        "colab_type": "code",
        "colab": {
          "base_uri": "https://localhost:8080/",
          "height": 54
        },
        "outputId": "1d957831-e84c-4f32-8da6-4b49a4c91c51"
      },
      "source": [
        "# Probability\n",
        "def P(samplespace):\n",
        "  return 1/len(samplespace)\n",
        "\n",
        "print('P =', P(DIE))\n",
        "\n",
        "print()\n",
        "\n",
        "SampleSpace = permutations(DIE, rolltimes)\n",
        "\n",
        "if debug:\n",
        "  print(\"Sample Space:\")\n",
        "  for rolls in SampleSpace:\n",
        "    for die in rolls:\n",
        "      print(die, end = ' ')\n",
        "    print()"
      ],
      "execution_count": 56,
      "outputs": [
        {
          "output_type": "stream",
          "text": [
            "P = 0.16666666666666666\n",
            "\n"
          ],
          "name": "stdout"
        }
      ]
    },
    {
      "cell_type": "markdown",
      "metadata": {
        "id": "Qta8uqVAbvLV",
        "colab_type": "text"
      },
      "source": [
        "# Rastgele değişken"
      ]
    },
    {
      "cell_type": "code",
      "metadata": {
        "id": "WzFPVKtAbzBp",
        "colab_type": "code",
        "colab": {
          "base_uri": "https://localhost:8080/",
          "height": 90
        },
        "outputId": "fb94dcaa-e17d-4e8b-a365-3bb221acb0bf"
      },
      "source": [
        "X = 5\n",
        "print(\"X =\", X)\n",
        "\n",
        "print()\n",
        "\n",
        "RandomVariable = []\n",
        "\n",
        "for rolls in SampleSpace:\n",
        "  occurrence = rolls.count(X)\n",
        "  if occurrence not in RandomVariable:\n",
        "    RandomVariable.append(occurrence)\n",
        "  if debug:\n",
        "    for die in rolls:\n",
        "      print(die, end = ' ')\n",
        "    print(\"=>\", occurrence)\n",
        "\n",
        "#RandomVariable.sort()\n",
        "\n",
        "print(\"Random Variable:\")\n",
        "print(RandomVariable)"
      ],
      "execution_count": 57,
      "outputs": [
        {
          "output_type": "stream",
          "text": [
            "X = 5\n",
            "\n",
            "Random Variable:\n",
            "[0, 1, 2, 3, 4, 5, 6]\n"
          ],
          "name": "stdout"
        }
      ]
    },
    {
      "cell_type": "markdown",
      "metadata": {
        "id": "ZJS7TltAgGuC",
        "colab_type": "text"
      },
      "source": [
        "# Olasılık dağılımı"
      ]
    },
    {
      "cell_type": "code",
      "metadata": {
        "id": "t5OAxez5eDej",
        "colab_type": "code",
        "colab": {
          "base_uri": "https://localhost:8080/",
          "height": 145
        },
        "outputId": "2fba005e-8668-4738-a30a-ef504595d0da"
      },
      "source": [
        "def P_X_x(samplespace, states, event, occr_num):\n",
        "  one_event_prob = P(states)\n",
        "  result = 0\n",
        "  event_prob = 1\n",
        "  for events in samplespace:\n",
        "    event_prob = 1\n",
        "    occurrence = events.count(event)\n",
        "    if occurrence == occr_num:\n",
        "      for e in events:\n",
        "        event_prob *= one_event_prob\n",
        "      result += event_prob\n",
        "  return result\n",
        "\n",
        "#if debug:\n",
        "for rv in RandomVariable:\n",
        "  print('P(X={}) = {}'.format(rv,P_X_x(SampleSpace, DIE, X, rv)))"
      ],
      "execution_count": 58,
      "outputs": [
        {
          "output_type": "stream",
          "text": [
            "P(X=0) = 0.3348979766803261\n",
            "P(X=1) = 0.40187757201637914\n",
            "P(X=2) = 0.20093878600822004\n",
            "P(X=3) = 0.05358367626886006\n",
            "P(X=4) = 0.008037551440329261\n",
            "P(X=5) = 0.000643004115226337\n",
            "P(X=6) = 2.1433470507544577e-05\n"
          ],
          "name": "stdout"
        }
      ]
    },
    {
      "cell_type": "markdown",
      "metadata": {
        "id": "qfwKQ38UDmf3",
        "colab_type": "text"
      },
      "source": [
        "# Beklenen değer\n",
        "\n",
        "Rastgele değişkenin alması beklenen değer her bir rastgele değişken ile o rastgele değişkene ait olasılıklar çarpılır ve toplanır."
      ]
    },
    {
      "cell_type": "code",
      "metadata": {
        "id": "Lzbbx_PDgJRB",
        "colab_type": "code",
        "colab": {
          "base_uri": "https://localhost:8080/",
          "height": 35
        },
        "outputId": "e7287698-ee38-47ed-a518-b780813488cc"
      },
      "source": [
        "def E(X):\n",
        "  one_event_prob = P(X)\n",
        "  result = 0\n",
        "  for x in X:\n",
        "    result += (x * one_event_prob)\n",
        "  return result\n",
        "\n",
        "print(\"E =\", E(DIE))"
      ],
      "execution_count": 59,
      "outputs": [
        {
          "output_type": "stream",
          "text": [
            "E = 3.5\n"
          ],
          "name": "stdout"
        }
      ]
    },
    {
      "cell_type": "markdown",
      "metadata": {
        "id": "lEzTifcrDXNV",
        "colab_type": "text"
      },
      "source": [
        "# Varyans\n",
        "\n",
        "Yayılımdaki değişim miktarı."
      ]
    },
    {
      "cell_type": "code",
      "metadata": {
        "id": "wmSXE1kjmqYU",
        "colab_type": "code",
        "colab": {
          "base_uri": "https://localhost:8080/",
          "height": 90
        },
        "outputId": "40cf3ea5-fb40-4642-c7d4-295737c3ddb8"
      },
      "source": [
        "def square(list):\n",
        "  result = []\n",
        "  for i in list:\n",
        "    result.append(i ** 2)\n",
        "  return result\n",
        "\n",
        "print(\"E(X^2) =\", E(square(DIE)))\n",
        "\n",
        "print()\n",
        "\n",
        "def Var(X):\n",
        "  return (E(square(X)) - (E(X)**2))\n",
        "\n",
        "print(\"1: Var(X) =\", Var(DIE))\n",
        "\n",
        "def average(X):\n",
        "  result = 0\n",
        "  for x in X:\n",
        "    result += x\n",
        "  return (result / len(X))\n",
        "\n",
        "def map(list, value):\n",
        "  result = []\n",
        "  for i in list:\n",
        "    result.append(i - value)\n",
        "  return result\n",
        "\n",
        "def VarA(X):\n",
        "  return (E(square(map(X, average(X)))))\n",
        "\n",
        "print(\"2: Var(X) =\", VarA(DIE))"
      ],
      "execution_count": 60,
      "outputs": [
        {
          "output_type": "stream",
          "text": [
            "E(X^2) = 15.166666666666666\n",
            "\n",
            "1: Var(X) = 2.916666666666666\n",
            "2: Var(X) = 2.9166666666666665\n"
          ],
          "name": "stdout"
        }
      ]
    },
    {
      "cell_type": "markdown",
      "metadata": {
        "id": "KTdlDE13y_3e",
        "colab_type": "text"
      },
      "source": [
        "# Standart sapma"
      ]
    },
    {
      "cell_type": "code",
      "metadata": {
        "id": "FLqlErxEpdiY",
        "colab_type": "code",
        "colab": {
          "base_uri": "https://localhost:8080/",
          "height": 35
        },
        "outputId": "d1037f7c-fe27-4471-fe3f-f28cb8ee1792"
      },
      "source": [
        "def Sigma(X):\n",
        "  return math.sqrt(VarA(X))\n",
        "\n",
        "print(\"Sigma =\", Sigma(DIE))"
      ],
      "execution_count": 66,
      "outputs": [
        {
          "output_type": "stream",
          "text": [
            "Sigma = 1.707825127659933\n"
          ],
          "name": "stdout"
        }
      ]
    },
    {
      "cell_type": "markdown",
      "metadata": {
        "id": "QRrNLa4z-IVN",
        "colab_type": "text"
      },
      "source": [
        "# Bernoulli\n",
        "Bir deneyde basarı ve basarısızlık diye nitelendirilen iki sonuçla ilgilenildiginde bu deneye (iki sonuçlu) Bernoulli deneyi denir."
      ]
    },
    {
      "cell_type": "markdown",
      "metadata": {
        "id": "THLzzNVDAw_Q",
        "colab_type": "text"
      },
      "source": [
        "# Binomial\n",
        "Basarı olasılıgı p olan bir Bernoulli denemesinin aynı sartlar altında (bagımsız olarak) n kez tekrarlanması ile olusan deneydir."
      ]
    },
    {
      "cell_type": "code",
      "metadata": {
        "id": "KlKIuGbZ-Mju",
        "colab_type": "code",
        "colab": {}
      },
      "source": [
        ""
      ],
      "execution_count": 0,
      "outputs": []
    }
  ]
}