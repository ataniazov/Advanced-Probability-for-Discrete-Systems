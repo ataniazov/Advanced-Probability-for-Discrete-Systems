{
  "nbformat": 4,
  "nbformat_minor": 0,
  "metadata": {
    "colab": {
      "name": "disease_test.ipynb",
      "version": "0.3.2",
      "provenance": [],
      "collapsed_sections": [],
      "include_colab_link": true
    },
    "kernelspec": {
      "name": "python3",
      "display_name": "Python 3"
    }
  },
  "cells": [
    {
      "cell_type": "markdown",
      "metadata": {
        "id": "view-in-github",
        "colab_type": "text"
      },
      "source": [
        "<a href=\"https://colab.research.google.com/github/ataniazov/Advanced-Probability-for-Discrete-Systems/blob/master/bayesian-theory/disease_test.ipynb\" target=\"_parent\"><img src=\"https://colab.research.google.com/assets/colab-badge.svg\" alt=\"Open In Colab\"/></a>"
      ]
    },
    {
      "metadata": {
        "id": "jKKv6K7j9be6",
        "colab_type": "text"
      },
      "cell_type": "markdown",
      "source": [
        "# Hastalık Testi\n",
        "Her 100 çocuktan 1 tanesi X hastalığına yakalanmaktadır.\n",
        "X hastalığının tespitinde kullanılan test tam güvenilir sonuçlar ÜRETMEMEKTEDİR. \n",
        "Hasta kişilerde bu testin sonucu %80 pozitif çıkarken, hasta olamayan kişilerde %10 pozitif çıkmaktadır.\n",
        "\n",
        "Bu bilgilere göre test sonucu pozitif olan bir çocuğun geçekten hasta olma olasılığı nedir?"
      ]
    },
    {
      "metadata": {
        "id": "UpQxYwoUlaAP",
        "colab_type": "code",
        "colab": {
          "base_uri": "https://localhost:8080/",
          "height": 323
        },
        "outputId": "56085dc0-5a80-4b29-f07e-c0561be8ea99"
      },
      "cell_type": "code",
      "source": [
        "def bayes(ba, a, b):                        # bayes isminde method oluşturuluyor\n",
        "    sonuc = (ba * a) / b                    # bayes fonksiyonuna girdi olan değerlerle bayes formülüne göre sonuç hesaplanuyor\n",
        "    return round(sonuc, 3)                  # elde edilen sonuç değeri fonksiyonun çıktısı olarak döndürülüyor\n",
        "\n",
        "hasta = 1                                   # hasta değişkenine sorudaki default değer atanıyor\n",
        "hasta_pozitif = 80                          # hastalardan test değeri pozitif olanlar için hasta_pozitif değişkenine sorudaki default değer atanıyor\n",
        "saglikli_pozitif = 10                       # sağlıkı kişilerden test sonucu pozitif olanlar için saglikli_pozitif değişkenine sorudaki default değer atanıyor\n",
        "\n",
        "saglikli = 100 - hasta                      # sağlıklı çocuk oranı bulunuyor\n",
        "hasta_negatif = 100 - hasta_pozitif         # hasta olup test sonucu negatif olanları oranı bulunuyor\n",
        "saglikli_negatif = 100 - saglikli_pozitif   # sağlıklı olup da test sonucu negatif olanların oranı bulunuyor\n",
        "\n",
        "tum_pozitif = round((hasta / 100) * (hasta_pozitif / 100) + (saglikli / 100) * (saglikli_pozitif / 100), 3) # test sonucu pozitif olan tüm çocukların oranı bulunuyor\n",
        "# sorunun çözümünün daha net anlaşılabilmesi için gerekli bilgiler ekrana yazdırılıyor\n",
        "# soruda verilen ve yukarıda bulunan değerler ekrana basılıyor\n",
        "# en sonunda sorunun çözümü için bayes fonnksiyonuna gerekli değerler girdi olarak verilerek sonuç hesaplanıyor\n",
        "print(\"\\n      Hasta(%{0})              Sağlıklı(%{1})\"\n",
        "      \"\\n       /     \\\\                   /     \\\\\"\n",
        "      \"\\n      /       \\\\                 /       \\\\\"\n",
        "      \"\\n     /         \\\\               /         \\\\\"\n",
        "      \"\\n Pozitif     Negatif        Pozitif     Negatif\"\n",
        "      \"\\n  (%{2})       (%{3})          (%{4})       (%{5})\"\n",
        "      \"\\n\\nP(A|B) = P(B|A) * P(A) / P(B)\"\n",
        "      \"\\n\\n P(A)--> Çocukların X hastalığına yakalanma oranı = {6}\"\n",
        "      \"\\n P(B|A)--> X hastalığına yakalanan çocuklarda testin pozitif çıkma oranı = {7}\"\n",
        "      \"\\n P(B)--> Test sonucu pozitif olan çocukların oranı ({8}x{9} + {10}x{11}) = {12}\"\n",
        "      \"\\n P(A|B)--> Test sonucu pozitif olan X hastalığına yakalanmış çocukların oranı = ?\"\n",
        "      \"\\n\"\n",
        "      \"\\n P(A|B) = {7} * {6} / {12} = {13} \\n\\n\".format(hasta, saglikli, hasta_pozitif, hasta_negatif,\n",
        "                                                   saglikli_pozitif, saglikli_negatif, hasta / 100,\n",
        "                                                   hasta_pozitif / 100, hasta / 100, hasta_pozitif / 100,\n",
        "                                                   saglikli / 100, saglikli_pozitif / 100, tum_pozitif,\n",
        "                                                   bayes(hasta_pozitif / 100, hasta / 100, tum_pozitif)))"
      ],
      "execution_count": 10,
      "outputs": [
        {
          "output_type": "stream",
          "text": [
            "\n",
            "      Hasta(%1)              Sağlıklı(%99)\n",
            "       /     \\                   /     \\\n",
            "      /       \\                 /       \\\n",
            "     /         \\               /         \\\n",
            " Pozitif     Negatif        Pozitif     Negatif\n",
            "  (%80)       (%20)          (%10)       (%90)\n",
            "\n",
            "P(A|B) = P(B|A) * P(A) / P(B)\n",
            "\n",
            " P(A)--> Çocukların X hastalığına yakalanma oranı = 0.01\n",
            " P(B|A)--> X hastalığına yakalanan çocuklarda testin pozitif çıkma oranı = 0.8\n",
            " P(B)--> Test sonucu pozitif olan çocukların oranı (0.01x0.8 + 0.99x0.1) = 0.107\n",
            " P(A|B)--> Test sonucu pozitif olan X hastalığına yakalanmış çocukların oranı = ?\n",
            "\n",
            " P(A|B) = 0.8 * 0.01 / 0.107 = 0.075 \n",
            "\n",
            "\n"
          ],
          "name": "stdout"
        }
      ]
    }
  ]
}