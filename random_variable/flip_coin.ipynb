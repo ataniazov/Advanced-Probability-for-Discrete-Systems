{
  "nbformat": 4,
  "nbformat_minor": 0,
  "metadata": {
    "colab": {
      "name": "flip_coin.ipynb",
      "version": "0.3.2",
      "provenance": [],
      "collapsed_sections": [],
      "include_colab_link": true
    },
    "kernelspec": {
      "name": "python3",
      "display_name": "Python 3"
    }
  },
  "cells": [
    {
      "cell_type": "markdown",
      "metadata": {
        "id": "view-in-github",
        "colab_type": "text"
      },
      "source": [
        "<a href=\"https://colab.research.google.com/github/ataniazov/Advanced-Probability-for-Discrete-Systems/blob/master/random_variable/flip_coin.ipynb\" target=\"_parent\"><img src=\"https://colab.research.google.com/assets/colab-badge.svg\" alt=\"Open In Colab\"/></a>"
      ]
    },
    {
      "cell_type": "code",
      "metadata": {
        "id": "eYq4HsgRJ483",
        "colab_type": "code",
        "colab": {}
      },
      "source": [
        "import matplotlib.pyplot as plt\n",
        "import random\n",
        "from enum import Enum, auto"
      ],
      "execution_count": 0,
      "outputs": []
    },
    {
      "cell_type": "code",
      "metadata": {
        "id": "ktkpTpiCVw6W",
        "colab_type": "code",
        "colab": {
          "base_uri": "https://localhost:8080/",
          "height": 119
        },
        "outputId": "698f5fa4-6420-4d16-a38b-c8d308d3d51a"
      },
      "source": [
        "class Coin(Enum):\n",
        "  HEAD = auto()    # HEADS\n",
        "  TAIL = auto()    # TAILS\n",
        "\n",
        "print(list(Coin))\n",
        "\n",
        "print()\n",
        "\n",
        "print(\"Coin:\")\n",
        "\n",
        "for coin in Coin:\n",
        "  print(coin.name)\n",
        "\n",
        "print()"
      ],
      "execution_count": 2,
      "outputs": [
        {
          "output_type": "stream",
          "text": [
            "[<Coin.HEAD: 1>, <Coin.TAIL: 2>]\n",
            "\n",
            "Coin:\n",
            "HEAD\n",
            "TAIL\n",
            "\n"
          ],
          "name": "stdout"
        }
      ]
    },
    {
      "cell_type": "code",
      "metadata": {
        "id": "QRQc4za1P_uR",
        "colab_type": "code",
        "colab": {
          "base_uri": "https://localhost:8080/",
          "height": 51
        },
        "outputId": "9dfeaca8-31dd-4ae5-b95a-3609a5e5b5c2"
      },
      "source": [
        "fliptimes = 3\n",
        "\n",
        "results = []\n",
        "\n",
        "for flip in range(fliptimes):\n",
        "  results.append(random.choice(list(Coin)))\n",
        "\n",
        "print(\"Flip results:\")\n",
        "for result in results:\n",
        "  print(result.name, end = ' ')\n"
      ],
      "execution_count": 3,
      "outputs": [
        {
          "output_type": "stream",
          "text": [
            "Flip results:\n",
            "TAIL TAIL HEAD "
          ],
          "name": "stdout"
        }
      ]
    },
    {
      "cell_type": "code",
      "metadata": {
        "id": "zebPr1FzV0Qx",
        "colab_type": "code",
        "colab": {}
      },
      "source": [
        "def increment(arr):\n",
        "    last = n - 1\n",
        "    cut_off = len(states) - 1\n",
        " \n",
        "    arr[last] += 1\n",
        " \n",
        "    for i in range(last, 0, -1):\n",
        "        if arr[i] > cut_off:\n",
        "            arr[i] = 0\n",
        "            arr[i - 1] += 1\n",
        "        else:\n",
        "            break\n",
        "    return arr\n",
        " \n",
        "def permutations(states, n):\n",
        "    if len(states) <= 1: return\n",
        "    if n == 0: return\n",
        " \n",
        "    current = [0] * n\n",
        " \n",
        "    out = []\n",
        "    count = 0\n",
        " \n",
        "    possibilities = len(states)**n\n",
        " \n",
        "    while count < possibilities:\n",
        "        new_permutation = []\n",
        " \n",
        "        for i in range(0, n):\n",
        "            j = current[i]\n",
        "            new_permutation += [states[j]]\n",
        "        out += [new_permutation]\n",
        " \n",
        "        count += 1\n",
        "        current = increment(current)\n",
        " \n",
        "    return out"
      ],
      "execution_count": 0,
      "outputs": []
    },
    {
      "cell_type": "code",
      "metadata": {
        "id": "ww2B6Dl9RBYp",
        "colab_type": "code",
        "colab": {
          "base_uri": "https://localhost:8080/",
          "height": 170
        },
        "outputId": "e73be70d-e179-47bd-a843-bc7ec6899832"
      },
      "source": [
        "states = list(Coin)\n",
        "n = fliptimes\n",
        "\n",
        "SampleSpace = permutations(states, n)\n",
        "\n",
        "print(\"Sample Space:\")\n",
        "for flips in SampleSpace:\n",
        "  for coin in flips:\n",
        "    print(coin.name, end = ' ')\n",
        "  print()"
      ],
      "execution_count": 5,
      "outputs": [
        {
          "output_type": "stream",
          "text": [
            "Sample Space:\n",
            "HEAD HEAD HEAD \n",
            "HEAD HEAD TAIL \n",
            "HEAD TAIL HEAD \n",
            "HEAD TAIL TAIL \n",
            "TAIL HEAD HEAD \n",
            "TAIL HEAD TAIL \n",
            "TAIL TAIL HEAD \n",
            "TAIL TAIL TAIL \n"
          ],
          "name": "stdout"
        }
      ]
    },
    {
      "cell_type": "code",
      "metadata": {
        "id": "1Nd3OpFGdDsf",
        "colab_type": "code",
        "colab": {
          "base_uri": "https://localhost:8080/",
          "height": 238
        },
        "outputId": "f6128edd-dbc8-4579-96a3-2b916d135851"
      },
      "source": [
        "X = Coin.TAIL\n",
        "print(\"X =\",X.name)\n",
        "\n",
        "print()\n",
        "\n",
        "RandomVariable = []\n",
        "\n",
        "for flips in SampleSpace:\n",
        "  occurrence = flips.count(X)\n",
        "  if occurrence not in RandomVariable:\n",
        "    RandomVariable.append(occurrence)\n",
        "  for coin in flips:\n",
        "    print(coin.name, end = ' ')\n",
        "  print(\"=>\", occurrence)\n",
        "\n",
        "print()\n",
        "\n",
        "print(\"Random Variable:\")\n",
        "\n",
        "RandomVariable.sort()\n",
        "\n",
        "print(RandomVariable)"
      ],
      "execution_count": 6,
      "outputs": [
        {
          "output_type": "stream",
          "text": [
            "X = TAIL\n",
            "\n",
            "HEAD HEAD HEAD => 0\n",
            "HEAD HEAD TAIL => 1\n",
            "HEAD TAIL HEAD => 1\n",
            "HEAD TAIL TAIL => 2\n",
            "TAIL HEAD HEAD => 1\n",
            "TAIL HEAD TAIL => 2\n",
            "TAIL TAIL HEAD => 2\n",
            "TAIL TAIL TAIL => 3\n",
            "\n",
            "Random Variable:\n",
            "[0, 1, 2, 3]\n"
          ],
          "name": "stdout"
        }
      ]
    },
    {
      "cell_type": "code",
      "metadata": {
        "id": "b8fS7HVZjEfH",
        "colab_type": "code",
        "colab": {}
      },
      "source": [
        "states = list(Coin)\n",
        "samplespace = SampleSpace\n",
        "one_event_prob = 1 / len(states)\n",
        "\n",
        "def P_X_x(event, occr_num):\n",
        "  result = 0\n",
        "  event_prob = 1\n",
        "  for events in samplespace:\n",
        "    event_prob = 1\n",
        "    occurrence = events.count(event)\n",
        "    if occurrence == occr_num:\n",
        "      for e in events:\n",
        "        event_prob *= one_event_prob\n",
        "      result += event_prob\n",
        "  return result"
      ],
      "execution_count": 0,
      "outputs": []
    },
    {
      "cell_type": "code",
      "metadata": {
        "id": "MwrHAkzywdD8",
        "colab_type": "code",
        "colab": {
          "base_uri": "https://localhost:8080/",
          "height": 85
        },
        "outputId": "76544bce-b590-47b4-a5c9-bc93fd6a9ff3"
      },
      "source": [
        "print(\"P(X=0) =\", P_X_x(X, 0))\n",
        "print(\"P(X=1) =\", P_X_x(X, 1))\n",
        "print(\"P(X=2) =\", P_X_x(X, 2))\n",
        "print(\"P(X=3) =\", P_X_x(X, 3))"
      ],
      "execution_count": 8,
      "outputs": [
        {
          "output_type": "stream",
          "text": [
            "P(X=0) = 0.125\n",
            "P(X=1) = 0.375\n",
            "P(X=2) = 0.375\n",
            "P(X=3) = 0.125\n"
          ],
          "name": "stdout"
        }
      ]
    },
    {
      "cell_type": "code",
      "metadata": {
        "id": "9aknoMoD3Uhr",
        "colab_type": "code",
        "colab": {
          "base_uri": "https://localhost:8080/",
          "height": 286
        },
        "outputId": "c8589d01-e7d4-4b65-c7fe-b80d4852e436"
      },
      "source": [
        "PX = []\n",
        "\n",
        "for i in RandomVariable:\n",
        "  PX.append(P_X_x(X, i))\n",
        "\n",
        "\n",
        "plt.plot(RandomVariable, PX, \"ro\")"
      ],
      "execution_count": 9,
      "outputs": [
        {
          "output_type": "execute_result",
          "data": {
            "text/plain": [
              "[<matplotlib.lines.Line2D at 0x7fbf30e3d668>]"
            ]
          },
          "metadata": {
            "tags": []
          },
          "execution_count": 9
        },
        {
          "output_type": "display_data",
          "data": {
            "image/png": "[encoded data removed]",
            "text/plain": [
              "<Figure size 432x288 with 1 Axes>"
            ]
          },
          "metadata": {
            "tags": []
          }
        }
      ]
    }
  ]
}